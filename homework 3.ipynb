{
 "cells": [
  {
   "cell_type": "markdown",
   "id": "e1e4e852-ef87-4309-944a-534892f09f5d",
   "metadata": {},
   "source": [
    "## Функции. Рекурсия.\n",
    "\n",
    "\n",
    "### Упражение 1\n",
    "Написать функцию, считающую N-ое число Фибоначчи (N вводится с клавиатуры)."
   ]
  },
  {
   "cell_type": "code",
   "execution_count": 3,
   "id": "74141600-a24e-4a99-969d-cf96317a12f1",
   "metadata": {},
   "outputs": [
    {
     "name": "stdin",
     "output_type": "stream",
     "text": [
      " 4\n"
     ]
    },
    {
     "name": "stdout",
     "output_type": "stream",
     "text": [
      "3\n"
     ]
    }
   ],
   "source": [
    "def f(n):\n",
    "    if n == 1 or n == 2:\n",
    "        return 1\n",
    "    return f(n-1)+f(n-2)\n",
    "\n",
    "n = int(input())\n",
    "print(f(n))"
   ]
  },
  {
   "cell_type": "markdown",
   "id": "02abfe00-f6d3-40b0-9543-6492a49ee186",
   "metadata": {},
   "source": [
    "### Упражение 2\n",
    "Написать функцию, раскладывающую число на простые множители (число вводится с клавиатуры)."
   ]
  },
  {
   "cell_type": "code",
   "execution_count": null,
   "id": "6e4037cc-aa5b-453b-aa2a-6ef0c4ae1fbf",
   "metadata": {},
   "outputs": [],
   "source": [
    "def f(n):\n",
    "    if n == 0:\n",
    "        return(0)\n",
    "    i = 2\n",
    "    a = []\n",
    "    while i <= (n**0.5)+1:\n",
    "        while n % i == 0:\n",
    "            a.append(i + f(n-n))\n",
    "            n = n // i\n",
    "        i = i + 1\n",
    "    if n > 1:\n",
    "        a.append(n)\n",
    "    return a\n",
    "\n",
    "n = int(input())\n",
    "print(*f(n))"
   ]
  },
  {
   "cell_type": "markdown",
   "id": "39fb8c94-167e-44b4-b452-5a05e7134f08",
   "metadata": {},
   "source": [
    "### Упражнение 3\n",
    "Со времен Евклида известно, что для любых положительных a и b существуют такие целые x и y, что ax + by = d, где d – наибольший общий делитель a и b. По заданным a и b найти x, y, d.\n",
    "\n",
    "Вход. Каждая строка содержит два натуральных числа a и b, разделенных пробелом.\n",
    "\n",
    "Выход. Для каждой пары a и b в отдельной строке вывести три целых числа x, y и d, разделенных пробелом. Если искомых значений x и y несколько, то следует выводить такую пару, для которой |x| + |y| минимально. Если и таких пар несколько, то вывести ту пару, в которой x минимально.\n",
    "\n",
    "|Пример входа|Пример выхода|\n",
    "|-|-|\n",
    "|4 6|-1 1 2|\n",
    "|17 17|0 1 17|\n",
    "|5 3|-1 2 1|"
   ]
  },
  {
   "cell_type": "code",
   "execution_count": 4,
   "id": "4fa8a9c2-0c81-4f9a-b67e-b243ff6781ed",
   "metadata": {},
   "outputs": [
    {
     "name": "stdin",
     "output_type": "stream",
     "text": [
      " 1 3\n"
     ]
    },
    {
     "name": "stdout",
     "output_type": "stream",
     "text": [
      "1 0 1\n"
     ]
    }
   ],
   "source": [
    "def f(n):\n",
    "    if n == 0:\n",
    "        return 0\n",
    "    i = 2\n",
    "    a = []\n",
    "    while i <= (n**0.5)+1:\n",
    "        while n % i == 0:\n",
    "            a.append(i + f(n-n))\n",
    "            n = n // i\n",
    "        i = i + 1\n",
    "    if n > 1:\n",
    "        a.append(n)\n",
    "    return a\n",
    "\n",
    "a, b = map(int, input().split())\n",
    "d1 = f(a)\n",
    "d2 = f(b)\n",
    "m = []\n",
    "for i in d1:\n",
    "    if i in d2:\n",
    "        m.append(i)\n",
    "        d2.pop(d2.index(i))\n",
    "ans = 1\n",
    "for j in m:\n",
    "    ans *= j\n",
    "for i in range(100):\n",
    "    y = (ans - a*i)/b\n",
    "    y1 = (ans + a*i)/b\n",
    "    if y == int(y):\n",
    "        print(i, (ans - a*i)//b, ans)\n",
    "        break\n",
    "    if y1 == int(y1):\n",
    "        print(-i, (ans + a*i)//b, ans)\n",
    "        break"
   ]
  },
  {
   "cell_type": "markdown",
   "id": "4ec98ff8-f921-40b7-9b10-cf9cab4fac7b",
   "metadata": {},
   "source": [
    "### Упражнение 4\n",
    "Напишите функцию для вывода треугольника. Функция принимает два аргумента – size (количество строк, на которых будет строиться треугольник) и symb (символ, используемый для заполнения треугольника).\n",
    "\n",
    "Пример входа: `7 c`\n",
    "\n",
    "Пример выхода:\n",
    "![image-2.png](attachment:image-2.png) "
   ]
  },
  {
   "cell_type": "code",
   "execution_count": null,
   "id": "80d01851-512c-4128-9aa9-9d2a3d424883",
   "metadata": {},
   "outputs": [],
   "source": [
    "n, s = map(str, input().split())\n",
    "n = int(n)\n",
    "if n%2!=0:\n",
    "    k1 = n//2+1\n",
    "    k2 = k1-1\n",
    "else:\n",
    "    k1 = n//2\n",
    "    k2 = k1\n",
    "for i in range(1, k1+1):\n",
    "    print(s*i)\n",
    "for i in range(k2, 0, -1):\n",
    "    print(s*i)"
   ]
  },
  {
   "cell_type": "markdown",
   "id": "a8354d4c-25a0-4d4b-b9b4-efbfa1aa4f03",
   "metadata": {},
   "source": [
    "## Библиотеки. Numpy\n",
    "\n",
    "Для решения практических задач часто бывает необходимо \n",
    "Для вычисления математических функций в python есть стандартная библиотека [math](http://docs.scipy.org/doc/numpy/reference/generated/numpy.log.html#numpy.log). Однако значительно более сильным инструментом является библиотека [numpy](http://docs.scipy.org/doc/numpy/reference/generated/numpy.polyfit.html).\n",
    "Данная библиотека обеспечивает удобную работу с векторами, которые здесь наззываются массивами (arrays).\n",
    "\n",
    "Т.е., если у нас есть массив X и мы вызовем numpy.log(x), то логарифм будет взят от каждого элемента и возвращен будет массив значений логарифмов элементов.\n",
    "\n",
    "Традиционно библиотека numpy (как и любая другая) подключается командой:\n",
    "\n",
    "``` python\n",
    "import numpy\n",
    "```\n",
    "Пример вызова функции из библиотеки\n",
    "``` python\n",
    "numpy.cos(x)\n",
    "```\n",
    "Библиотеки можно подключить под псевдонимом:\n",
    "``` python\n",
    "import numpy as np\n",
    "```\n",
    "В таком случае мы можем вызывать функции так:\n",
    "``` python\n",
    "np.cos(x)\n",
    "```\n",
    "Такой код значительно проще читать и писать.\n",
    "\n",
    "Возможно также подключать отдельные функции из библиотеки, это позволит вызывать их без указания названия библиотеки:\n",
    "``` python\n",
    "from numpy import cos\n",
    "cos(x)\n",
    "```\n",
    "``` python\n",
    "from numpy import cos\n",
    "cos(x)\n",
    "```\n",
    "\n",
    "Как уже было сказано, основной объект, с которым принято взаимодействовать в numpy -- массивы. Они отличаются от списков тем, что могут хранить значения, имеющие один и тот же тип, и имеют определенные по-другому операции. Например:\n",
    "\n",
    "``` python\n",
    "a = np.array([1,2,3])\n",
    "b = np.array([1,2,3])\n",
    "c = a + b\n",
    "```\n",
    "Если бы `a` и `b` были списками, то мы получили бы \"сшитый\" список. Однако в данном случае мы получим результат поэлементного сложения двух массивов.\n",
    "\n",
    "### *Broadcasting\n",
    "\n",
    "Одной из фишек библиотеки numpy является [бродкастинг](https://numpy.org/doc/stable/user/basics.broadcasting.html). Он позволяет существенно упростить многие операции с массивами и матрицами. Самый простой пример бродкастинга:\n",
    "```python\n",
    "a = np.array([1,2,3,4])\n",
    "b = 1\n",
    "c = a + b\n",
    "```\n",
    "Казалось бы, мы должны получить ошибку, ведь массив и число -- разные типы данных. Однако в данном случае numpy поймет, что вы хотите прибавить единицу ко всем элементам массива и сделает это. Аналогично можно прибавлять к матрице вектор или строку соответствующего размера."
   ]
  },
  {
   "cell_type": "markdown",
   "id": "ae7b9f5c-22af-4606-b861-1f2faca4cbbf",
   "metadata": {},
   "source": [
    "### Упражнение 5\n",
    "\n",
    "Создайте матрицу размером `NxM`, заполненную \"спиралью\":\n",
    "\n",
    "![image.png](attachment:image.png)\n",
    "\n",
    "Умножьте каждую строку получившейся матрицы на номер строки, выведите результат."
   ]
  },
  {
   "cell_type": "code",
   "execution_count": 68,
   "id": "ef27375b-b46c-439f-b224-c70d28d7c4c2",
   "metadata": {},
   "outputs": [
    {
     "name": "stdin",
     "output_type": "stream",
     "text": [
      " 3 6\n"
     ]
    },
    {
     "name": "stdout",
     "output_type": "stream",
     "text": [
      "спираль\n",
      "[[ 1.  2.  3.  4.  5.  6.]\n",
      " [14. 15. 16. 17. 18.  7.]\n",
      " [13. 12. 11. 10.  9.  8.]]\n",
      "ответ\n",
      "[[ 0.  0.  0.  0.  0.  0.]\n",
      " [14. 15. 16. 17. 18.  7.]\n",
      " [26. 24. 22. 20. 18. 16.]]\n"
     ]
    }
   ],
   "source": [
    "import numpy as np\n",
    "n, m = map(int, input().split())\n",
    "a = np.zeros((n,m))\n",
    "a[0][0] = 1\n",
    "y = 0\n",
    "x = 0\n",
    "z = 1\n",
    "k =0\n",
    "while k < 3:\n",
    "    while x <m-1:\n",
    "        x += 1\n",
    "        if a[y][x] == 0:\n",
    "            z += 1\n",
    "            a[y][x] = z\n",
    "        else:\n",
    "            break\n",
    "    while y < n-1:\n",
    "        y += 1\n",
    "        if a[y][x] == 0:\n",
    "            z += 1\n",
    "            a[y][x] = z\n",
    "        else:\n",
    "            break\n",
    "    while x > 0:\n",
    "        x -= 1\n",
    "        if a[y][x] == 0:\n",
    "            z += 1\n",
    "            a[y][x] = z\n",
    "        else:\n",
    "            break\n",
    "    while y > 0:\n",
    "        y -= 1\n",
    "        if a[y][x] == 0:\n",
    "            z += 1\n",
    "            a[y][x] = z\n",
    "        else:\n",
    "            y += 1\n",
    "            break\n",
    "    k += 1\n",
    "print('спираль')\n",
    "print(a)\n",
    "for i in range(len(a)):\n",
    "    a[i] = a[i]*i\n",
    "print('ответ')\n",
    "print(a)"
   ]
  },
  {
   "cell_type": "markdown",
   "id": "15f9973d-a851-423d-ac7c-6d86e1149efa",
   "metadata": {},
   "source": [
    "## Упражнение 6\n",
    "\n",
    "Напишите функцию, считающую коэффициенты МНК для набора измерений `x` и `y`."
   ]
  },
  {
   "cell_type": "code",
   "execution_count": null,
   "id": "8a3884f3-4d93-473b-a202-97e8e255172a",
   "metadata": {},
   "outputs": [],
   "source": [
    "import numpy as np  \n",
    "  \n",
    "def f(x, y):   \n",
    "    x = np.array(x)  \n",
    "    y = np.array(y)  \n",
    "    n = len(x)  \n",
    "    sum_x = np.sum(x)  \n",
    "    sum_y = np.sum(y)  \n",
    "    sum_xy = np.sum(x * y)  \n",
    "    sum_x2 = np.sum(x**2)  \n",
    "    slope = (n * sum_xy - sum_x * sum_y) / (n * sum_x2 - sum_x**2)  \n",
    "    intercept = (sum_y - slope * sum_x) / n  \n",
    "    return slope, intercept  \n",
    "#apprecation Yandex Alice"
   ]
  },
  {
   "cell_type": "markdown",
   "id": "d6580258-d867-4f36-9c7d-1e5116af55e1",
   "metadata": {},
   "source": [
    "### Упражнение 7\n",
    "\n",
    "Напишите функцию, решающую линейную систему уравнений, заданную расширенной матрицей. На вход подаются `N` и `M` -- количество строк и столбцов расширенной матрицы, далее вводятся `N` строк, каждая из которых содержит `M` чисел."
   ]
  },
  {
   "cell_type": "code",
   "execution_count": 6,
   "id": "4a155f19-0f6e-4982-ad74-5467dae1de12",
   "metadata": {},
   "outputs": [
    {
     "name": "stdin",
     "output_type": "stream",
     "text": [
      " 2 3\n",
      " 2 3 7\n",
      " 1 -1 1\n"
     ]
    },
    {
     "name": "stdout",
     "output_type": "stream",
     "text": [
      "[2. 1.]\n",
      "None\n"
     ]
    }
   ],
   "source": [
    "import numpy as np\n",
    "\n",
    "def f(N, M):\n",
    "    a = []\n",
    "    for i in range(N):\n",
    "        row_str = input().split()\n",
    "        row = [float(x) for x in row_str]\n",
    "        a.append(row)\n",
    "    b = []\n",
    "    for i in range(len(a)):\n",
    "        b.append(a[i][-1])\n",
    "        a[i].pop()\n",
    "    a = np.array(a)\n",
    "    b = np.array(b)\n",
    "    print(np.linalg.solve(a, b))\n",
    "\n",
    "n, m = map(int, input().split())\n",
    "print(f(n, m))\n",
    "#apprecations Yandex, Gemini, Sasha Tiuov"
   ]
  },
  {
   "cell_type": "markdown",
   "id": "468f1978-b3ac-49cb-b9fc-9a9b4787c7bf",
   "metadata": {},
   "source": [
    "### Упражнение 8* (для осн и продв)\n",
    "\n",
    "Реализуйте функцию, генерирующую набор данных размером `N`, которые методом МНК аппроксимируются прямой с коэффициентами `a` и `b`. Для этого вам пригодится библиотека `random` и функция `random.gauss()`."
   ]
  },
  {
   "cell_type": "code",
   "execution_count": 17,
   "id": "c0e04ff8-e36f-4171-86a5-9f326f099453",
   "metadata": {},
   "outputs": [
    {
     "name": "stdout",
     "output_type": "stream",
     "text": [
      "[]\n"
     ]
    }
   ],
   "source": [
    "import random\n",
    "import numpy as np\n",
    "def f(N, a, b, noise_std):\n",
    "    x_values = np.array([])\n",
    "    y_values = np.array([])\n",
    "    for i in range(N):\n",
    "        x = random.uniform(0, 10)\n",
    "        y_true = a * x + b\n",
    "        noise = random.gauss(0, noise_std)\n",
    "        y_noisy = y_true + noise\n",
    "        np.append(x_values, x)\n",
    "        np.append(y_values, y_noisy)\n",
    "    z = x_values + y_values\n",
    "    return z\n",
    "#apprecations Gemini, но код как будто не работает, не понимою почему , Gemini изначально вообще фигню написал, пришлось менять почти все"
   ]
  },
  {
   "cell_type": "markdown",
   "id": "c688fd28-f839-4d4d-93c6-ae79fa603a92",
   "metadata": {},
   "source": [
    "## *Функция eval()\n",
    "\n",
    "В Python есть встроенная функция `eval()`, которая выполняет строку с\n",
    "кодом и возвращает результат выполнения:\n",
    "\n",
    "``` python\n",
    ">>> eval(\"2 + 3*len('banana')\")\n",
    "20\n",
    "```\n",
    "\n",
    "Это очень мощная, но и довольно небезопасная команда.\n",
    "Например, если строкой, которую мы передадим в `eval()`, окажется\n",
    "`\"os.system('rm -rf /')\"` (в терминале Linux), то интерпретатор начнет удалять все файлы, включая системные, с компьютера.\n",
    "\n",
    "## *Задачи по numpy для дополнительного изучения\n",
    "https://github.com/rougier/numpy-100"
   ]
  },
  {
   "cell_type": "code",
   "execution_count": 1,
   "id": "fb29511e-0f42-432b-94fc-95ae137d8b8e",
   "metadata": {},
   "outputs": [
    {
     "name": "stdout",
     "output_type": "stream",
     "text": [
      "1\n"
     ]
    }
   ],
   "source": [
    "print(1)"
   ]
  },
  {
   "cell_type": "code",
   "execution_count": null,
   "id": "b6795f82-15c7-4ce6-9dd1-830a149aa7ec",
   "metadata": {},
   "outputs": [],
   "source": []
  },
  {
   "cell_type": "code",
   "execution_count": null,
   "id": "92327ab2-774a-42e7-85d6-b8eadce81dc9",
   "metadata": {},
   "outputs": [],
   "source": [
    "\n"
   ]
  },
  {
   "cell_type": "code",
   "execution_count": null,
   "id": "bc637676-db04-4db3-b14e-7741a4491e33",
   "metadata": {},
   "outputs": [],
   "source": []
  },
  {
   "cell_type": "code",
   "execution_count": null,
   "id": "00e4e676-a8b9-4f6b-a221-6212c428b521",
   "metadata": {},
   "outputs": [],
   "source": []
  }
 ],
 "metadata": {
  "kernelspec": {
   "display_name": "Python [conda env:base] *",
   "language": "python",
   "name": "conda-base-py"
  },
  "language_info": {
   "codemirror_mode": {
    "name": "ipython",
    "version": 3
   },
   "file_extension": ".py",
   "mimetype": "text/x-python",
   "name": "python",
   "nbconvert_exporter": "python",
   "pygments_lexer": "ipython3",
   "version": "3.13.5"
  }
 },
 "nbformat": 4,
 "nbformat_minor": 5
}
